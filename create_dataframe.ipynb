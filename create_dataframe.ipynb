{
 "cells": [
  {
   "cell_type": "code",
   "execution_count": null,
   "metadata": {
    "tags": []
   },
   "outputs": [],
   "source": [
    "# Create initial Dataframe\n",
    "\n",
    "import os\n",
    "import pandas as pd\n",
    "import librosa\n",
    "from tqdm import tqdm\n",
    "\n",
    "\n",
    "#Input directory example\n",
    "#/Users/michael/Desktop/test_demo\n",
    "\n",
    "folder_path = input(\"Input audio path\")\n",
    "file_name = []\n",
    "audio = []\n",
    "# gets number of files in a folder\n",
    "total = len(os.listdir(folder_path))\n",
    "print(total)\n",
    "\n",
    "pbar = tqdm(total = total)\n",
    "for file in os.listdir(folder_path):\n",
    "    # Ignores any files that is not a wav\n",
    "    if \".wav\" in file:\n",
    "        data, sr = librosa.load(folder_path + \"/\" + file)\n",
    "        audio.append(data)\n",
    "        file_name.append(file)\n",
    "        pbar.update(1)\n",
    "    else:\n",
    "        pbar.update(1)\n",
    "pbar.close()\n",
    "\n",
    "#Create dataframe\n",
    "dataset = pd.DataFrame(columns = ['file_name', 'audio_length', 'silence_length', 'end', 'fold', 'class_id', 'class'])\n",
    "dataset.audio = audio\n",
    "dataset.file_name = file_name\n",
    "\n",
    "#Export dataframe\n",
    "dataset.to_csv (folder_path + '/' + \"test.csv\", index = False, header=True)\n"
   ]
  },
  {
   "cell_type": "code",
   "execution_count": null,
   "metadata": {},
   "outputs": [],
   "source": []
  }
 ],
 "metadata": {
  "language_info": {
   "codemirror_mode": {
    "name": "ipython",
    "version": 3
   },
   "file_extension": ".py",
   "mimetype": "text/x-python",
   "name": "python",
   "nbconvert_exporter": "python",
   "pygments_lexer": "ipython3",
   "version": "3.8.5-final"
  },
  "orig_nbformat": 2,
  "kernelspec": {
   "name": "python38564bitaudiosegmenternxtome9venv14dc4fbf5d3b4babbd14231c8ff30d50",
   "display_name": "Python 3.8.5 64-bit ('Audio_segmenter-NxT_OME9': venv)"
  }
 },
 "nbformat": 4,
 "nbformat_minor": 2
}