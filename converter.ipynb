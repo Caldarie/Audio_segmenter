{
 "metadata": {
  "language_info": {
   "codemirror_mode": {
    "name": "ipython",
    "version": 3
   },
   "file_extension": ".py",
   "mimetype": "text/x-python",
   "name": "python",
   "nbconvert_exporter": "python",
   "pygments_lexer": "ipython3",
   "version": "3.8.5-final"
  },
  "orig_nbformat": 2,
  "kernelspec": {
   "name": "Python 3.8.5 64-bit ('Audio_segmenter': pipenv)",
   "display_name": "Python 3.8.5 64-bit ('Audio_segmenter': pipenv)",
   "metadata": {
    "interpreter": {
     "hash": "a91c74282807d5f65ae688ecb3826843f54a91cfb2bbfc1de8eedc44e6d48169"
    }
   }
  }
 },
 "nbformat": 4,
 "nbformat_minor": 2,
 "cells": [
  {
   "cell_type": "code",
   "execution_count": 5,
   "metadata": {},
   "outputs": [],
   "source": [
    "import os\n",
    "import pandas as pd\n",
    "from pydub import AudioSegment\n",
    "from pydub.utils import make_chunks\n",
    "from tqdm import tqdm\n",
    "\n",
    "#Input directory example\n",
    "#/Users/michael/Desktop/test_demo.m4a\n"
   ]
  },
  {
   "cell_type": "code",
   "execution_count": null,
   "metadata": {
    "tags": []
   },
   "outputs": [],
   "source": [
    "#converts all the mp4 files into wav\n",
    "#Please run this as a seperate cell\n",
    "\n",
    "\n",
    "folder_path = input(\"Input audio path\")\n",
    "\n",
    "# gets number of files in a folder\n",
    "total = len(os.listdir(folder_path))\n",
    "pbar = tqdm(total = total)\n",
    "\n",
    "for file in os.listdir(folder_path):\n",
    "    base_name_wo_ext = os.path.splitext(file)[0] \n",
    "    # Ignores any files that is not a mp4\n",
    "    if \".mp4\" in file:\n",
    "        sound = AudioSegment.from_file(folder_path + \"/\" + file, format=\"mp4\")\n",
    "        sound = sound.set_frame_rate(22050)\n",
    "        sound = sound.set_channels(1)\n",
    "        sound.export(folder_path + \"/\" + base_name_wo_ext + \".wav\", format=\"wav\")\n",
    "        pbar.update(1)\n",
    "    else:\n",
    "        pbar.update(1)\n",
    "pbar.close()\n",
    "print(\"Conversion complete\")\n"
   ]
  },
  {
   "cell_type": "code",
   "execution_count": 11,
   "metadata": {},
   "outputs": [
    {
     "output_type": "stream",
     "name": "stderr",
     "text": [
      "100%|██████████| 10/10 [00:00<00:00, 80.05it/s]New folder sucesfully created in: /Users/michael/Library/Mobile Documents/com~apple~CloudDocs/Dataset/segmented/band3-5/spliced_audio\n",
      "Splicing....\n",
      "exporting /Users/michael/Library/Mobile Documents/com~apple~CloudDocs/Dataset/segmented/band3-5/spliced_audio/band3-5_8-0.wav\n",
      "exporting /Users/michael/Library/Mobile Documents/com~apple~CloudDocs/Dataset/segmented/band3-5/spliced_audio/band3-5_8-1.wav\n",
      "exporting /Users/michael/Library/Mobile Documents/com~apple~CloudDocs/Dataset/segmented/band3-5/spliced_audio/band3-5_8-2.wav\n",
      "exporting /Users/michael/Library/Mobile Documents/com~apple~CloudDocs/Dataset/segmented/band3-5/spliced_audio/band3-5_8-3-leftover.wav\n",
      "exporting /Users/michael/Library/Mobile Documents/com~apple~CloudDocs/Dataset/segmented/band3-5/spliced_audio/band3-5_3-0.wav\n",
      "exporting /Users/michael/Library/Mobile Documents/com~apple~CloudDocs/Dataset/segmented/band3-5/spliced_audio/band3-5_3-1.wav\n",
      "exporting /Users/michael/Library/Mobile Documents/com~apple~CloudDocs/Dataset/segmented/band3-5/spliced_audio/band3-5_3-2.wav\n",
      "exporting /Users/michael/Library/Mobile Documents/com~apple~CloudDocs/Dataset/segmented/band3-5/spliced_audio/band3-5_3-3.wav\n",
      "exporting /Users/michael/Library/Mobile Documents/com~apple~CloudDocs/Dataset/segmented/band3-5/spliced_audio/band3-5_3-4-leftover.wav\n",
      "exporting /Users/michael/Library/Mobile Documents/com~apple~CloudDocs/Dataset/segmented/band3-5/spliced_audio/band3-5_2-0.wav\n",
      "exporting /Users/michael/Library/Mobile Documents/com~apple~CloudDocs/Dataset/segmented/band3-5/spliced_audio/band3-5_2-1.wav\n",
      "exporting /Users/michael/Library/Mobile Documents/com~apple~CloudDocs/Dataset/segmented/band3-5/spliced_audio/band3-5_2-2.wav\n",
      "exporting /Users/michael/Library/Mobile Documents/com~apple~CloudDocs/Dataset/segmented/band3-5/spliced_audio/band3-5_2-3.wav\n",
      "exporting /Users/michael/Library/Mobile Documents/com~apple~CloudDocs/Dataset/segmented/band3-5/spliced_audio/band3-5_2-4.wav\n",
      "exporting /Users/michael/Library/Mobile Documents/com~apple~CloudDocs/Dataset/segmented/band3-5/spliced_audio/band3-5_1-0.wav\n",
      "exporting /Users/michael/Library/Mobile Documents/com~apple~CloudDocs/Dataset/segmented/band3-5/spliced_audio/band3-5_1-1.wav\n",
      "exporting /Users/michael/Library/Mobile Documents/com~apple~CloudDocs/Dataset/segmented/band3-5/spliced_audio/band3-5_1-2.wav\n",
      "exporting /Users/michael/Library/Mobile Documents/com~apple~CloudDocs/Dataset/segmented/band3-5/spliced_audio/band3-5_1-3.wav\n",
      "exporting /Users/michael/Library/Mobile Documents/com~apple~CloudDocs/Dataset/segmented/band3-5/spliced_audio/band3-5_1-4.wav\n",
      "exporting /Users/michael/Library/Mobile Documents/com~apple~CloudDocs/Dataset/segmented/band3-5/spliced_audio/band3-5_1-5.wav\n",
      "exporting /Users/michael/Library/Mobile Documents/com~apple~CloudDocs/Dataset/segmented/band3-5/spliced_audio/band3-5_1-6-leftover.wav\n",
      "exporting /Users/michael/Library/Mobile Documents/com~apple~CloudDocs/Dataset/segmented/band3-5/spliced_audio/band3-5_5-0.wav\n",
      "exporting /Users/michael/Library/Mobile Documents/com~apple~CloudDocs/Dataset/segmented/band3-5/spliced_audio/band3-5_5-1.wav\n",
      "exporting /Users/michael/Library/Mobile Documents/com~apple~CloudDocs/Dataset/segmented/band3-5/spliced_audio/band3-5_5-2.wav\n",
      "exporting /Users/michael/Library/Mobile Documents/com~apple~CloudDocs/Dataset/segmented/band3-5/spliced_audio/band3-5_5-3.wav\n",
      "exporting /Users/michael/Library/Mobile Documents/com~apple~CloudDocs/Dataset/segmented/band3-5/spliced_audio/band3-5_5-4.wav\n",
      "exporting /Users/michael/Library/Mobile Documents/com~apple~CloudDocs/Dataset/segmented/band3-5/spliced_audio/band3-5_5-5-leftover.wav\n",
      "exporting /Users/michael/Library/Mobile Documents/com~apple~CloudDocs/Dataset/segmented/band3-5/spliced_audio/band3-5_4-0.wav\n",
      "exporting /Users/michael/Library/Mobile Documents/com~apple~CloudDocs/Dataset/segmented/band3-5/spliced_audio/band3-5_4-1-leftover.wav\n",
      "exporting /Users/michael/Library/Mobile Documents/com~apple~CloudDocs/Dataset/segmented/band3-5/spliced_audio/band3-5_6-0.wav\n",
      "exporting /Users/michael/Library/Mobile Documents/com~apple~CloudDocs/Dataset/segmented/band3-5/spliced_audio/band3-5_6-1.wav\n",
      "exporting /Users/michael/Library/Mobile Documents/com~apple~CloudDocs/Dataset/segmented/band3-5/spliced_audio/band3-5_6-2.wav\n",
      "exporting /Users/michael/Library/Mobile Documents/com~apple~CloudDocs/Dataset/segmented/band3-5/spliced_audio/band3-5_6-3-leftover.wav\n",
      "exporting /Users/michael/Library/Mobile Documents/com~apple~CloudDocs/Dataset/segmented/band3-5/spliced_audio/band3-5_7-0.wav\n",
      "exporting /Users/michael/Library/Mobile Documents/com~apple~CloudDocs/Dataset/segmented/band3-5/spliced_audio/band3-5_7-1-leftover.wav\n",
      "Splice complete\n",
      "\n"
     ]
    }
   ],
   "source": [
    "#normalizes the converted audio's amplitude and split it into 5 second in intervals \n",
    "#Please run this as a seperate cell \n",
    "\n",
    "#Input directory example\n",
    "#/Users/michael/Desktop/test_demo\n",
    "\n",
    "folder_path = input(\"Input audio path\")\n",
    "base_folder_name = os.path.normpath(os.path.basename(folder_path))\n",
    "\n",
    "#make a new directory to store exported audio chunks\n",
    "new_dir =  folder_path + \"/\" + base_folder_name\n",
    "try:\n",
    "    os.makedirs(new_dir, exist_ok=False) #Will not remake directory if directory exists\n",
    "    print(\"New folder sucesfully created in: \" + new_dir)\n",
    "except OSError as error:\n",
    "    print(\"File already exists. Skipped making directory\")\n",
    "\n",
    "#Calculates the total number of files in the foler\n",
    "total = len(os.listdir(folder_path))\n",
    "pbar = tqdm(total = total)\n",
    "\n",
    "chunk_length_ms = 5000 # pydub calculates in millisec\n",
    "target_dBFS = -20.0\n",
    "\n",
    "#Normalizes amplitude\n",
    "def match_target_amplitude(aChunk, target_dBFS):\n",
    "    ''' Normalize given audio chunk '''\n",
    "    change_in_dBFS = target_dBFS - aChunk.dBFS\n",
    "    return aChunk.apply_gain(change_in_dBFS)\n",
    "\n",
    "print(\"Splicing....\")\n",
    "for file in os.listdir(folder_path):\n",
    "    #Atively searchs for wav files and splics it.\n",
    "    if \".wav\" in file:\n",
    "        myaudio = AudioSegment.from_file(folder_path + \"/\" + file, \"wav\") \n",
    "        chunks = make_chunks(myaudio, chunk_length_ms) #Make chunks of one sec\n",
    "        base_name_wo_ext = os.path.splitext(file)[0] \n",
    "        for i, chunk in enumerate(chunks):\n",
    "            #Normalizes amplitude \n",
    "            normalized_chunk = match_target_amplitude(chunk, target_dBFS)\n",
    "            #If chunk equals to specified length. Export as is\n",
    "            if len(chunks[i]) == chunk_length_ms:\n",
    "                chunk_name = new_dir + \"/\" + base_name_wo_ext + \"-{0}.wav\".format(i)\n",
    "                print(\"exporting\", chunk_name)\n",
    "                normalized_chunk.export(chunk_name, format=\"wav\")\n",
    "            #If chunk equals is less than the specified length. Export as leftover\n",
    "            else:\n",
    "                chunk_name = new_dir + \"/\" + base_name_wo_ext + \"-{0}-leftover.wav\".format(i)\n",
    "                print(\"exporting\", chunk_name)\n",
    "                normalized_chunk.export(chunk_name, format=\"wav\")\n",
    "        pbar.update(1)\n",
    "    #Ignores any files that is not a wav\n",
    "    else:\n",
    "        pbar.update(1)\n",
    "pbar.close()\n",
    "print(\"Splice complete\")\n",
    "\n"
   ]
  },
  {
   "cell_type": "code",
   "execution_count": null,
   "metadata": {},
   "outputs": [],
   "source": []
  }
 ]
}